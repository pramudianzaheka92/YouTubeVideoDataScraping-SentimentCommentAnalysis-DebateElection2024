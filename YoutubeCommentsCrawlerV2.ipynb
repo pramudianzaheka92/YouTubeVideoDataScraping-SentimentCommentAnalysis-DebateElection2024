{
 "cells": [
  {
   "cell_type": "markdown",
   "metadata": {
    "id": "fqSHGr69ztZA"
   },
   "source": [
    "<a href=\"https://www.youtube.com/channel/UC80kXszNqAdWGTHFBcOKVdg\"><img src=\"https://lh3.googleusercontent.com/3BGYLiEKEvFZ0u6eLcDbKvad__jwIRs30D19_ttfwuMv2TrJ3qovD_Lb_HGF4QvSCeVYoE2Ay6Hkfx0wN0LFV1VvILg7XIdrqR7bE9EtnbF2SwYIueV1-B33aomEwjTmkAKDY4TYopVfaSbfsBWzwfOXpoKy_ASFSrjKt_2p_E35fyTkTbES2t9GUnZ25bMjAe_Y4xqfkw-8lRqK9zCYVwlcD_e2YXUlNXs8ubJCHwZp3MAdPL3kWzLMnuVAKsiORvjt_IgCVINNcDAqfak56arvmtg4MXpcbyKSeYK2A33p0jcFnOkgddq3KhABVNqb0PRM7inpysBXMJ7-u7Q__Y4LVGdFh_gTmuPcxHQZXqS10kU_K86bOQtgqY5m9DjJ5Ixd--sxiR4evRr4LnjDH-9L-6Rcu4EZI6LXMxlANCuFGuTLgIIqrq6qgIliinjuxyuwsX-cl-pE_Y3TBcZ5dum52_O8HtkuPo3NOQXD0Pg4ZfQV11CSkeD-82HaONupDREROrrgFOriOYljzSj4438GSaK4IUTfDjP1UFMKnA6QuZGhSA0noStBSeIwTitSUsHbspxGwYm05Of9UiP-vpvhB5zGDUWl2gLpPsXxz6SDNlDGsVFekX81jNOrFnDzj-Me98FgK4AAmW4Of6Z8LN1ZjBw1MdFwGabLN94tHUMg0sPf-UJFbw5XqN0spoltuB8YmAGSyIWLHoC4eVuARcEX=w1659-h300-no?authuser=0\" align=\"center\"></a>\n",
    "# <center>Crawling Komentar Video Youtube</center>\n",
    "<hr>"
   ]
  },
  {
   "cell_type": "markdown",
   "metadata": {
    "id": "drJUjdex0P5L"
   },
   "source": [
    "**Tujuan** dari program ini adalah melakukan crawling (pengambilan) data komentar pada sebuah video Youtube menggunakan **Youtube Data API v3**. Sebelum mencoba program ini, pastikan Anda sudah memiliki (mengaktifkan) layanan Youtube Data API dan telah membangkitkan **API Key**. \n",
    "\n",
    "Jika belum memiliki **API KEY**, Anda dapat mengikuti petunjuk singkat sebagai berikut: \n",
    "1. Login ke Google Developer Console (https://console.developers.google.com/)dengan akun Google Anda\n",
    "2. Buat project baru dan lengkapi isian yang diminta. \n",
    "3. Aktifkan Layanan API pada halaman project, dan cari **Youtube Data API v3**.\n",
    "4. Dari halaman dashboard, buat kredential agar API tersebut dapat digunakan. Klik tombol **Buat Kredensial** (**Create Credential**). Lengkapi isian formnya.\n",
    "5. Anda dapat mengakses / melihat API KEY pada tab **Credentials**.\n",
    "\n"
   ]
  },
  {
   "cell_type": "markdown",
   "metadata": {
    "id": "rHeYaYGj4LYZ"
   },
   "source": [
    "#1. Import Library"
   ]
  },
  {
   "cell_type": "code",
   "execution_count": 1,
   "metadata": {
    "id": "z6YKKk_wm-eW"
   },
   "outputs": [],
   "source": [
    "import pandas as pd\n",
    "from googleapiclient.discovery import build"
   ]
  },
  {
   "cell_type": "markdown",
   "metadata": {
    "id": "KcGp7cBr4Txt"
   },
   "source": [
    "#2. Fungsi untuk crawling komentar"
   ]
  },
  {
   "cell_type": "code",
   "execution_count": 2,
   "metadata": {
    "id": "Ny5RyssEa-rQ"
   },
   "outputs": [],
   "source": [
    "def video_comments(video_id):\n",
    "\t# empty list for storing reply\n",
    "\treplies = []\n",
    "\n",
    "\t# creating youtube resource object\n",
    "\tyoutube = build('youtube', 'v3', developerKey=api_key)\n",
    "\n",
    "\t# retrieve youtube video results\n",
    "\tvideo_response = youtube.commentThreads().list(part='snippet,replies', videoId=video_id).execute()\n",
    "\n",
    "\t# iterate video response\n",
    "\twhile video_response:\n",
    "\t\t\n",
    "\t\t# extracting required info\n",
    "\t\t# from each result object\n",
    "\t\tfor item in video_response['items']:\n",
    "\t\t\t\n",
    "\t\t\t# Extracting comments ()\n",
    "\t\t\tpublished = item['snippet']['topLevelComment']['snippet']['publishedAt']\n",
    "\t\t\tuser = item['snippet']['topLevelComment']['snippet']['authorDisplayName']\n",
    "\n",
    "\t\t\t# Extracting comments\n",
    "\t\t\tcomment = item['snippet']['topLevelComment']['snippet']['textDisplay']\n",
    "\t\t\tlikeCount = item['snippet']['topLevelComment']['snippet']['likeCount']\n",
    "\n",
    "\t\t\treplies.append([published, user, comment, likeCount])\n",
    "\t\t\t\n",
    "\t\t\t# counting number of reply of comment\n",
    "\t\t\treplycount = item['snippet']['totalReplyCount']\n",
    "\n",
    "\t\t\t# if reply is there\n",
    "\t\t\tif replycount>0:\n",
    "\t\t\t\t# iterate through all reply\n",
    "\t\t\t\tfor reply in item['replies']['comments']:\n",
    "\t\t\t\t\t\n",
    "\t\t\t\t\t# Extract reply\n",
    "\t\t\t\t\tpublished = reply['snippet']['publishedAt']\n",
    "\t\t\t\t\tuser = reply['snippet']['authorDisplayName']\n",
    "\t\t\t\t\trepl = reply['snippet']['textDisplay']\n",
    "\t\t\t\t\tlikeCount = reply['snippet']['likeCount']\n",
    "\t\t\t\t\t\n",
    "\t\t\t\t\t# Store reply is list\n",
    "\t\t\t\t\t#replies.append(reply)\n",
    "\t\t\t\t\treplies.append([published, user, repl, likeCount])\n",
    "\n",
    "\t\t\t# print comment with list of reply\n",
    "\t\t\t#print(comment, replies, end = '\\n\\n')\n",
    "\n",
    "\t\t\t# empty reply list\n",
    "\t\t\t#replies = []\n",
    "\n",
    "\t\t# Again repeat\n",
    "\t\tif 'nextPageToken' in video_response:\n",
    "\t\t\tvideo_response = youtube.commentThreads().list(\n",
    "\t\t\t\t\tpart = 'snippet,replies',\n",
    "\t\t\t\t\tpageToken = video_response['nextPageToken'], \n",
    "\t\t\t\t\tvideoId = video_id\n",
    "\t\t\t\t).execute()\n",
    "\t\telse:\n",
    "\t\t\tbreak\n",
    "\t#endwhile\n",
    "\treturn replies\n"
   ]
  },
  {
   "cell_type": "markdown",
   "metadata": {
    "id": "dr7TtIf442RG"
   },
   "source": [
    "#3. Jalankan Proses Crawling"
   ]
  },
  {
   "cell_type": "code",
   "execution_count": 3,
   "metadata": {
    "colab": {
     "base_uri": "https://localhost:8080/"
    },
    "id": "8fz3b_Da4m02",
    "outputId": "324803a9-f1d2-4db8-df36-2187183f89b5"
   },
   "outputs": [
    {
     "ename": "HttpError",
     "evalue": "<HttpError 400 when requesting https://youtube.googleapis.com/youtube/v3/commentThreads?part=snippet%2Creplies&videoId=5tucmKjOGi8&key=%3C%3CAPI+KEY%3E%3E&alt=json returned \"API key not valid. Please pass a valid API key.\". Details: \"[{'message': 'API key not valid. Please pass a valid API key.', 'domain': 'global', 'reason': 'badRequest'}]\">",
     "output_type": "error",
     "traceback": [
      "\u001b[1;31m---------------------------------------------------------------------------\u001b[0m",
      "\u001b[1;31mHttpError\u001b[0m                                 Traceback (most recent call last)",
      "Input \u001b[1;32mIn [3]\u001b[0m, in \u001b[0;36m<cell line: 9>\u001b[1;34m()\u001b[0m\n\u001b[0;32m      6\u001b[0m video_id \u001b[38;5;241m=\u001b[39m \u001b[38;5;124m\"\u001b[39m\u001b[38;5;124m5tucmKjOGi8\u001b[39m\u001b[38;5;124m\"\u001b[39m \u001b[38;5;66;03m#isikan dengan kode / ID video\u001b[39;00m\n\u001b[0;32m      8\u001b[0m \u001b[38;5;66;03m# Call function\u001b[39;00m\n\u001b[1;32m----> 9\u001b[0m comments \u001b[38;5;241m=\u001b[39m \u001b[43mvideo_comments\u001b[49m\u001b[43m(\u001b[49m\u001b[43mvideo_id\u001b[49m\u001b[43m)\u001b[49m\n\u001b[0;32m     11\u001b[0m comments\n",
      "Input \u001b[1;32mIn [2]\u001b[0m, in \u001b[0;36mvideo_comments\u001b[1;34m(video_id)\u001b[0m\n\u001b[0;32m      6\u001b[0m youtube \u001b[38;5;241m=\u001b[39m build(\u001b[38;5;124m'\u001b[39m\u001b[38;5;124myoutube\u001b[39m\u001b[38;5;124m'\u001b[39m, \u001b[38;5;124m'\u001b[39m\u001b[38;5;124mv3\u001b[39m\u001b[38;5;124m'\u001b[39m, developerKey\u001b[38;5;241m=\u001b[39mapi_key)\n\u001b[0;32m      8\u001b[0m \u001b[38;5;66;03m# retrieve youtube video results\u001b[39;00m\n\u001b[1;32m----> 9\u001b[0m video_response \u001b[38;5;241m=\u001b[39m \u001b[43myoutube\u001b[49m\u001b[38;5;241;43m.\u001b[39;49m\u001b[43mcommentThreads\u001b[49m\u001b[43m(\u001b[49m\u001b[43m)\u001b[49m\u001b[38;5;241;43m.\u001b[39;49m\u001b[43mlist\u001b[49m\u001b[43m(\u001b[49m\u001b[43mpart\u001b[49m\u001b[38;5;241;43m=\u001b[39;49m\u001b[38;5;124;43m'\u001b[39;49m\u001b[38;5;124;43msnippet,replies\u001b[39;49m\u001b[38;5;124;43m'\u001b[39;49m\u001b[43m,\u001b[49m\u001b[43m \u001b[49m\u001b[43mvideoId\u001b[49m\u001b[38;5;241;43m=\u001b[39;49m\u001b[43mvideo_id\u001b[49m\u001b[43m)\u001b[49m\u001b[38;5;241;43m.\u001b[39;49m\u001b[43mexecute\u001b[49m\u001b[43m(\u001b[49m\u001b[43m)\u001b[49m\n\u001b[0;32m     11\u001b[0m \u001b[38;5;66;03m# iterate video response\u001b[39;00m\n\u001b[0;32m     12\u001b[0m \u001b[38;5;28;01mwhile\u001b[39;00m video_response:\n\u001b[0;32m     13\u001b[0m \t\n\u001b[0;32m     14\u001b[0m \t\u001b[38;5;66;03m# extracting required info\u001b[39;00m\n\u001b[0;32m     15\u001b[0m \t\u001b[38;5;66;03m# from each result object\u001b[39;00m\n",
      "File \u001b[1;32m~\\anaconda3\\lib\\site-packages\\googleapiclient\\_helpers.py:130\u001b[0m, in \u001b[0;36mpositional.<locals>.positional_decorator.<locals>.positional_wrapper\u001b[1;34m(*args, **kwargs)\u001b[0m\n\u001b[0;32m    128\u001b[0m     \u001b[38;5;28;01melif\u001b[39;00m positional_parameters_enforcement \u001b[38;5;241m==\u001b[39m POSITIONAL_WARNING:\n\u001b[0;32m    129\u001b[0m         logger\u001b[38;5;241m.\u001b[39mwarning(message)\n\u001b[1;32m--> 130\u001b[0m \u001b[38;5;28;01mreturn\u001b[39;00m wrapped(\u001b[38;5;241m*\u001b[39margs, \u001b[38;5;241m*\u001b[39m\u001b[38;5;241m*\u001b[39mkwargs)\n",
      "File \u001b[1;32m~\\anaconda3\\lib\\site-packages\\googleapiclient\\http.py:938\u001b[0m, in \u001b[0;36mHttpRequest.execute\u001b[1;34m(self, http, num_retries)\u001b[0m\n\u001b[0;32m    936\u001b[0m     callback(resp)\n\u001b[0;32m    937\u001b[0m \u001b[38;5;28;01mif\u001b[39;00m resp\u001b[38;5;241m.\u001b[39mstatus \u001b[38;5;241m>\u001b[39m\u001b[38;5;241m=\u001b[39m \u001b[38;5;241m300\u001b[39m:\n\u001b[1;32m--> 938\u001b[0m     \u001b[38;5;28;01mraise\u001b[39;00m HttpError(resp, content, uri\u001b[38;5;241m=\u001b[39m\u001b[38;5;28mself\u001b[39m\u001b[38;5;241m.\u001b[39muri)\n\u001b[0;32m    939\u001b[0m \u001b[38;5;28;01mreturn\u001b[39;00m \u001b[38;5;28mself\u001b[39m\u001b[38;5;241m.\u001b[39mpostproc(resp, content)\n",
      "\u001b[1;31mHttpError\u001b[0m: <HttpError 400 when requesting https://youtube.googleapis.com/youtube/v3/commentThreads?part=snippet%2Creplies&videoId=5tucmKjOGi8&key=%3C%3CAPI+KEY%3E%3E&alt=json returned \"API key not valid. Please pass a valid API key.\". Details: \"[{'message': 'API key not valid. Please pass a valid API key.', 'domain': 'global', 'reason': 'badRequest'}]\">"
     ]
    }
   ],
   "source": [
    "# isikan dengan api key Anda\n",
    "api_key = '<<API KEY>>'\n",
    "\n",
    "# Enter video id\n",
    "# contoh url video = https://www.youtube.com/watch?v=5tucmKjOGi8\n",
    "video_id = \"5tucmKjOGi8\" #isikan dengan kode / ID video\n",
    "\n",
    "# Call function\n",
    "comments = video_comments(video_id)\n",
    "\n",
    "comments"
   ]
  },
  {
   "cell_type": "markdown",
   "metadata": {
    "id": "nLaSlvdT4_RI"
   },
   "source": [
    "#4. Ubah Hasil Crawling ke Dataframe"
   ]
  },
  {
   "cell_type": "code",
   "execution_count": 4,
   "metadata": {
    "colab": {
     "base_uri": "https://localhost:8080/",
     "height": 1000
    },
    "id": "qKNh912Tm6LF",
    "outputId": "639d6a6e-d041-4768-8f8c-8e7dad6543df"
   },
   "outputs": [
    {
     "ename": "NameError",
     "evalue": "name 'comments' is not defined",
     "output_type": "error",
     "traceback": [
      "\u001b[1;31m---------------------------------------------------------------------------\u001b[0m",
      "\u001b[1;31mNameError\u001b[0m                                 Traceback (most recent call last)",
      "Input \u001b[1;32mIn [4]\u001b[0m, in \u001b[0;36m<cell line: 1>\u001b[1;34m()\u001b[0m\n\u001b[1;32m----> 1\u001b[0m df \u001b[38;5;241m=\u001b[39m pd\u001b[38;5;241m.\u001b[39mDataFrame(\u001b[43mcomments\u001b[49m, columns\u001b[38;5;241m=\u001b[39m[\u001b[38;5;124m'\u001b[39m\u001b[38;5;124mpublishedAt\u001b[39m\u001b[38;5;124m'\u001b[39m, \u001b[38;5;124m'\u001b[39m\u001b[38;5;124mauthorDisplayName\u001b[39m\u001b[38;5;124m'\u001b[39m, \u001b[38;5;124m'\u001b[39m\u001b[38;5;124mtextDisplay\u001b[39m\u001b[38;5;124m'\u001b[39m, \u001b[38;5;124m'\u001b[39m\u001b[38;5;124mlikeCount\u001b[39m\u001b[38;5;124m'\u001b[39m])\n\u001b[0;32m      2\u001b[0m df\n",
      "\u001b[1;31mNameError\u001b[0m: name 'comments' is not defined"
     ]
    }
   ],
   "source": [
    "df = pd.DataFrame(comments, columns=['publishedAt', 'authorDisplayName', 'textDisplay', 'likeCount'])\n",
    "df"
   ]
  },
  {
   "cell_type": "markdown",
   "metadata": {
    "id": "r_MrPaUX5GRK"
   },
   "source": [
    "#5. Simpan Hasil Crawling ke file CSV"
   ]
  },
  {
   "cell_type": "code",
   "execution_count": 5,
   "metadata": {
    "id": "Fmtm_WC05LWB"
   },
   "outputs": [],
   "source": [
    "df.to_csv('youtube-comments.csv', index=False)"
   ]
  },
  {
   "cell_type": "markdown",
   "metadata": {
    "id": "TJe7fFj66Wsa"
   },
   "source": [
    "# Ingin belajar lebih banyak lagi?\n",
    "\n",
    "Banyak video pembelajaran terkait Machine Learning yang disajikan di channel Youtube http://youtube.com/c/AchmadSolichin. Silahkan berkunjung dan jangan lupa **SUBSCRIBE** untuk membantu pengembangan channel dengan video-video berkualitas lainnya.\n",
    "\n",
    "## Terima kasih, selamat belajar!\n",
    "\n",
    "Notebook ini dibuat oleh: <a href = \"http://achmatim.net\">Dr. Achmad Solichin</a> dengan acuan dari berbagai sumber:\n",
    "1. https://www.geeksforgeeks.org/how-to-extract-youtube-comments-using-youtube-api-python/\n",
    "\n",
    "<hr>\n",
    "Copyright &copy; 2022 [Achmatim.Net](http://achmatim.net). This notebook and its source code are released under the terms of the CC License.​"
   ]
  }
 ],
 "metadata": {
  "colab": {
   "collapsed_sections": [],
   "provenance": []
  },
  "kernelspec": {
   "display_name": "Python 3 (ipykernel)",
   "language": "python",
   "name": "python3"
  },
  "language_info": {
   "codemirror_mode": {
    "name": "ipython",
    "version": 3
   },
   "file_extension": ".py",
   "mimetype": "text/x-python",
   "name": "python",
   "nbconvert_exporter": "python",
   "pygments_lexer": "ipython3",
   "version": "3.9.12"
  }
 },
 "nbformat": 4,
 "nbformat_minor": 1
}
